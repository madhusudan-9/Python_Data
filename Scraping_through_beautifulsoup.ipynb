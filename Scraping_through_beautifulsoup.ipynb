{
 "cells": [
  {
   "cell_type": "markdown",
   "id": "334751da-9571-48cc-9792-f9813f5dd41d",
   "metadata": {},
   "source": [
    "## *Scraping data*"
   ]
  },
  {
   "cell_type": "code",
   "execution_count": 38,
   "id": "077f9173-62ee-4f87-8d15-4564d55e4483",
   "metadata": {},
   "outputs": [],
   "source": [
    "from bs4 import BeautifulSoup as bs\n",
    "import requests"
   ]
  },
  {
   "cell_type": "code",
   "execution_count": null,
   "id": "26070d22-aab6-4005-a4eb-57df5818fc85",
   "metadata": {},
   "outputs": [],
   "source": [
    "url=\"https://en.wikipedia.org/wiki/List_of_largest_companies_in_India\"\n",
    "tabs=requests.get(url)\n",
    "soup=bs(tabs.text,\"html\")\n",
    "\n",
    "print(soup)"
   ]
  },
  {
   "cell_type": "code",
   "execution_count": null,
   "id": "ed3806a8-8ab3-4fe8-9e93-625b5998aabc",
   "metadata": {},
   "outputs": [],
   "source": [
    "table=soup.find('table', class_=\"wikitable sortable\")\n",
    "print(table)"
   ]
  },
  {
   "cell_type": "code",
   "execution_count": null,
   "id": "5780f98c-77bc-4fe8-8cd4-434aed4e9595",
   "metadata": {},
   "outputs": [],
   "source": [
    "title_tab=table.find_all('th')\n",
    "title_tab #it is a list"
   ]
  },
  {
   "cell_type": "code",
   "execution_count": null,
   "id": "1cf540c8-b851-4dfa-9aae-b4bfc0541db8",
   "metadata": {},
   "outputs": [],
   "source": [
    "table_title=[title.text.strip() for title in title_tab]\n",
    "print(table_title)     #for printing the titles of the table\n"
   ]
  },
  {
   "cell_type": "code",
   "execution_count": 98,
   "id": "e21a808a-b6a3-4a47-8209-842973ce6059",
   "metadata": {},
   "outputs": [],
   "source": [
    "import pandas as pd"
   ]
  },
  {
   "cell_type": "code",
   "execution_count": 114,
   "id": "bb7116e2-64e5-4b9f-9f68-5935cc61a5a3",
   "metadata": {},
   "outputs": [
    {
     "data": {
      "text/html": [
       "<div>\n",
       "<style scoped>\n",
       "    .dataframe tbody tr th:only-of-type {\n",
       "        vertical-align: middle;\n",
       "    }\n",
       "\n",
       "    .dataframe tbody tr th {\n",
       "        vertical-align: top;\n",
       "    }\n",
       "\n",
       "    .dataframe thead th {\n",
       "        text-align: right;\n",
       "    }\n",
       "</style>\n",
       "<table border=\"1\" class=\"dataframe\">\n",
       "  <thead>\n",
       "    <tr style=\"text-align: right;\">\n",
       "      <th></th>\n",
       "      <th>Rank</th>\n",
       "      <th>Forbes 2000 rank</th>\n",
       "      <th>Name</th>\n",
       "      <th>Headquarters</th>\n",
       "      <th>Revenue(billions US$)</th>\n",
       "      <th>Profit(billions US$)</th>\n",
       "      <th>Assets(billions US$)</th>\n",
       "      <th>Value(billions US$)</th>\n",
       "      <th>Industry</th>\n",
       "    </tr>\n",
       "  </thead>\n",
       "  <tbody>\n",
       "  </tbody>\n",
       "</table>\n",
       "</div>"
      ],
      "text/plain": [
       "Empty DataFrame\n",
       "Columns: [Rank, Forbes 2000 rank, Name, Headquarters, Revenue(billions US$), Profit(billions US$), Assets(billions US$), Value(billions US$), Industry]\n",
       "Index: []"
      ]
     },
     "execution_count": 114,
     "metadata": {},
     "output_type": "execute_result"
    }
   ],
   "source": [
    "df=pd.DataFrame(columns = table_title)\n",
    "df"
   ]
  },
  {
   "cell_type": "code",
   "execution_count": null,
   "id": "4fb20b95-690f-4514-b345-0d3752ba778a",
   "metadata": {},
   "outputs": [],
   "source": [
    "data_tab=table.find_all('tr')\n",
    "data_tab"
   ]
  },
  {
   "cell_type": "code",
   "execution_count": 149,
   "id": "4f209d04-ed6f-4cf1-8c63-c82115267510",
   "metadata": {},
   "outputs": [],
   "source": [
    "for row in data_tab[1:]:\n",
    "    row_data=row.find_all('td')\n",
    "    each_row_data = [data.text.strip() for data in row_data]\n",
    "    #print(each_row_data)\n",
    "    length=len(df)\n",
    "    df.loc[length]=each_row_data"
   ]
  },
  {
   "cell_type": "code",
   "execution_count": 151,
   "id": "535030eb-26be-45ae-86b8-7c31cb6f5be8",
   "metadata": {},
   "outputs": [
    {
     "data": {
      "text/html": [
       "<div>\n",
       "<style scoped>\n",
       "    .dataframe tbody tr th:only-of-type {\n",
       "        vertical-align: middle;\n",
       "    }\n",
       "\n",
       "    .dataframe tbody tr th {\n",
       "        vertical-align: top;\n",
       "    }\n",
       "\n",
       "    .dataframe thead th {\n",
       "        text-align: right;\n",
       "    }\n",
       "</style>\n",
       "<table border=\"1\" class=\"dataframe\">\n",
       "  <thead>\n",
       "    <tr style=\"text-align: right;\">\n",
       "      <th></th>\n",
       "      <th>Rank</th>\n",
       "      <th>Forbes 2000 rank</th>\n",
       "      <th>Name</th>\n",
       "      <th>Headquarters</th>\n",
       "      <th>Revenue(billions US$)</th>\n",
       "      <th>Profit(billions US$)</th>\n",
       "      <th>Assets(billions US$)</th>\n",
       "      <th>Value(billions US$)</th>\n",
       "      <th>Industry</th>\n",
       "    </tr>\n",
       "  </thead>\n",
       "  <tbody>\n",
       "    <tr>\n",
       "      <th>0</th>\n",
       "      <td>1</td>\n",
       "      <td>49</td>\n",
       "      <td>Reliance Industries Limited</td>\n",
       "      <td>Mumbai</td>\n",
       "      <td>108.8</td>\n",
       "      <td>8.4</td>\n",
       "      <td>210.5</td>\n",
       "      <td>233.1</td>\n",
       "      <td>Conglomerate</td>\n",
       "    </tr>\n",
       "    <tr>\n",
       "      <th>1</th>\n",
       "      <td>2</td>\n",
       "      <td>55</td>\n",
       "      <td>State Bank of India</td>\n",
       "      <td>Mumbai</td>\n",
       "      <td>71.8</td>\n",
       "      <td>8.1</td>\n",
       "      <td>807.4</td>\n",
       "      <td>87.6</td>\n",
       "      <td>Banking</td>\n",
       "    </tr>\n",
       "    <tr>\n",
       "      <th>2</th>\n",
       "      <td>3</td>\n",
       "      <td>65</td>\n",
       "      <td>HDFC Bank</td>\n",
       "      <td>Mumbai</td>\n",
       "      <td>49.3</td>\n",
       "      <td>7.7</td>\n",
       "      <td>483.2</td>\n",
       "      <td>133.6</td>\n",
       "      <td>Banking</td>\n",
       "    </tr>\n",
       "    <tr>\n",
       "      <th>3</th>\n",
       "      <td>4</td>\n",
       "      <td>70</td>\n",
       "      <td>Life Insurance Corporation</td>\n",
       "      <td>New Delhi</td>\n",
       "      <td>98.0</td>\n",
       "      <td>4.9</td>\n",
       "      <td>561.4</td>\n",
       "      <td>73.6</td>\n",
       "      <td>Insurance</td>\n",
       "    </tr>\n",
       "    <tr>\n",
       "      <th>4</th>\n",
       "      <td>5</td>\n",
       "      <td>142</td>\n",
       "      <td>ICICI Bank</td>\n",
       "      <td>Mumbai</td>\n",
       "      <td>28.5</td>\n",
       "      <td>5.3</td>\n",
       "      <td>283.5</td>\n",
       "      <td>95.3</td>\n",
       "      <td>Banking</td>\n",
       "    </tr>\n",
       "    <tr>\n",
       "      <th>...</th>\n",
       "      <td>...</td>\n",
       "      <td>...</td>\n",
       "      <td>...</td>\n",
       "      <td>...</td>\n",
       "      <td>...</td>\n",
       "      <td>...</td>\n",
       "      <td>...</td>\n",
       "      <td>...</td>\n",
       "      <td>...</td>\n",
       "    </tr>\n",
       "    <tr>\n",
       "      <th>66</th>\n",
       "      <td>65</td>\n",
       "      <td>1895</td>\n",
       "      <td>Dr. Reddy's Laboratories</td>\n",
       "      <td>Hyderabad</td>\n",
       "      <td>3.4</td>\n",
       "      <td>0.7</td>\n",
       "      <td>4.6</td>\n",
       "      <td>11.6</td>\n",
       "      <td>Pharmaceuticals</td>\n",
       "    </tr>\n",
       "    <tr>\n",
       "      <th>67</th>\n",
       "      <td>66</td>\n",
       "      <td>1908</td>\n",
       "      <td>Varun Beverages</td>\n",
       "      <td>Gurgaon</td>\n",
       "      <td>2.0</td>\n",
       "      <td>0.3</td>\n",
       "      <td>1.8</td>\n",
       "      <td>23.6</td>\n",
       "      <td>Beverages</td>\n",
       "    </tr>\n",
       "    <tr>\n",
       "      <th>68</th>\n",
       "      <td>67</td>\n",
       "      <td>1949</td>\n",
       "      <td>CIFCL</td>\n",
       "      <td>Chennai</td>\n",
       "      <td>2.3</td>\n",
       "      <td>0.4</td>\n",
       "      <td>18.8</td>\n",
       "      <td>13.0</td>\n",
       "      <td>Financials</td>\n",
       "    </tr>\n",
       "    <tr>\n",
       "      <th>69</th>\n",
       "      <td>68</td>\n",
       "      <td>1957</td>\n",
       "      <td>NMDC</td>\n",
       "      <td>Hyderabad</td>\n",
       "      <td>2.5</td>\n",
       "      <td>0.8</td>\n",
       "      <td>3.9</td>\n",
       "      <td>9.7</td>\n",
       "      <td>Mining</td>\n",
       "    </tr>\n",
       "    <tr>\n",
       "      <th>70</th>\n",
       "      <td>69</td>\n",
       "      <td>1980</td>\n",
       "      <td>ABB India</td>\n",
       "      <td>Bangalore</td>\n",
       "      <td>1.3</td>\n",
       "      <td>0.2</td>\n",
       "      <td>1.3</td>\n",
       "      <td>21.3</td>\n",
       "      <td>Capital goods</td>\n",
       "    </tr>\n",
       "  </tbody>\n",
       "</table>\n",
       "<p>71 rows × 9 columns</p>\n",
       "</div>"
      ],
      "text/plain": [
       "   Rank Forbes 2000 rank                         Name Headquarters  \\\n",
       "0     1               49  Reliance Industries Limited       Mumbai   \n",
       "1     2               55          State Bank of India       Mumbai   \n",
       "2     3               65                    HDFC Bank       Mumbai   \n",
       "3     4               70   Life Insurance Corporation    New Delhi   \n",
       "4     5              142                   ICICI Bank       Mumbai   \n",
       "..  ...              ...                          ...          ...   \n",
       "66   65             1895     Dr. Reddy's Laboratories    Hyderabad   \n",
       "67   66             1908              Varun Beverages      Gurgaon   \n",
       "68   67             1949                        CIFCL      Chennai   \n",
       "69   68             1957                         NMDC    Hyderabad   \n",
       "70   69             1980                    ABB India    Bangalore   \n",
       "\n",
       "   Revenue(billions US$) Profit(billions US$) Assets(billions US$)  \\\n",
       "0                  108.8                  8.4                210.5   \n",
       "1                   71.8                  8.1                807.4   \n",
       "2                   49.3                  7.7                483.2   \n",
       "3                   98.0                  4.9                561.4   \n",
       "4                   28.5                  5.3                283.5   \n",
       "..                   ...                  ...                  ...   \n",
       "66                   3.4                  0.7                  4.6   \n",
       "67                   2.0                  0.3                  1.8   \n",
       "68                   2.3                  0.4                 18.8   \n",
       "69                   2.5                  0.8                  3.9   \n",
       "70                   1.3                  0.2                  1.3   \n",
       "\n",
       "   Value(billions US$)         Industry  \n",
       "0                233.1     Conglomerate  \n",
       "1                 87.6          Banking  \n",
       "2                133.6          Banking  \n",
       "3                 73.6        Insurance  \n",
       "4                 95.3          Banking  \n",
       "..                 ...              ...  \n",
       "66                11.6  Pharmaceuticals  \n",
       "67                23.6        Beverages  \n",
       "68                13.0       Financials  \n",
       "69                 9.7           Mining  \n",
       "70                21.3    Capital goods  \n",
       "\n",
       "[71 rows x 9 columns]"
      ]
     },
     "execution_count": 151,
     "metadata": {},
     "output_type": "execute_result"
    }
   ],
   "source": [
    "df"
   ]
  },
  {
   "cell_type": "code",
   "execution_count": 153,
   "id": "dc9edb69-262f-4704-b1da-798e1b1cd47f",
   "metadata": {},
   "outputs": [],
   "source": [
    "df.to_csv(r'E:\\DA_TOPS\\python\\scrapped_data\\Indian_companies.csv',index=False)"
   ]
  },
  {
   "cell_type": "code",
   "execution_count": 197,
   "id": "7039db10-7de5-4863-8e52-2f3aa226d1f1",
   "metadata": {},
   "outputs": [
    {
     "name": "stdout",
     "output_type": "stream",
     "text": [
      "List of largest companies in India\n"
     ]
    }
   ],
   "source": [
    "main_header=soup.find(\"h1\")\n",
    "print(main_header.text)"
   ]
  },
  {
   "cell_type": "code",
   "execution_count": null,
   "id": "dc7b203a-96e7-4df1-81c8-fe863e983877",
   "metadata": {},
   "outputs": [],
   "source": []
  }
 ],
 "metadata": {
  "kernelspec": {
   "display_name": "Python 3 (ipykernel)",
   "language": "python",
   "name": "python3"
  },
  "language_info": {
   "codemirror_mode": {
    "name": "ipython",
    "version": 3
   },
   "file_extension": ".py",
   "mimetype": "text/x-python",
   "name": "python",
   "nbconvert_exporter": "python",
   "pygments_lexer": "ipython3",
   "version": "3.12.4"
  }
 },
 "nbformat": 4,
 "nbformat_minor": 5
}
